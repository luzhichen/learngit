{
 "cells": [
  {
   "cell_type": "code",
   "execution_count": 6,
   "metadata": {
    "collapsed": false
   },
   "outputs": [
    {
     "name": "stdout",
     "output_type": "stream",
     "text": [
      "/home/lu/下载/CNN-Sentence-Classifier-master/app\n"
     ]
    }
   ],
   "source": [
    "cd /home/lu/下载/CNN-Sentence-Classifier-master/app/"
   ]
  },
  {
   "cell_type": "code",
   "execution_count": 8,
   "metadata": {
    "collapsed": false
   },
   "outputs": [],
   "source": [
    "import numpy as np\n",
    "from keras.callbacks import ModelCheckpoint\n",
    "from keras.preprocessing.sequence import pad_sequences\n",
    "from keras.preprocessing.text import Tokenizer\n",
    "from keras.utils.np_utils import to_categorical\n",
    "\n",
    "from model123 import model_selector\n",
    "from filereader import read_glove_vectors, read_input_data\n",
    "import argumentparser"
   ]
  },
  {
   "cell_type": "code",
   "execution_count": 9,
   "metadata": {
    "collapsed": false
   },
   "outputs": [
    {
     "name": "stderr",
     "output_type": "stream",
     "text": [
      "usage: __main__.py [-h] [--data_dir DATA_DIR]\n",
      "                   [--embedding_file_path EMBEDDING_FILE_PATH]\n",
      "                   [--model_dir MODEL_DIR] [--nb_words NB_WORDS]\n",
      "                   [--max_sequence_len MAX_SEQUENCE_LEN]\n",
      "                   [--validation_split VALIDATION_SPLIT]\n",
      "                   [--embedding_dim EMBEDDING_DIM] [--model_name MODEL_NAME]\n",
      "                   [--batch_size BATCH_SIZE] [--num_epochs NUM_EPOCHS]\n",
      "                   [--grad_clip GRAD_CLIP] [--learning_rate LEARNING_RATE]\n",
      "                   [--decay_rate DECAY_RATE]\n",
      "__main__.py: error: unrecognized arguments: -f /run/user/1000/jupyter/kernel-631a5855-e1b2-4984-80cb-201e0ff6ed88.json\n"
     ]
    },
    {
     "ename": "SystemExit",
     "evalue": "2",
     "output_type": "error",
     "traceback": [
      "An exception has occurred, use %tb to see the full traceback.\n",
      "\u001b[0;31mSystemExit\u001b[0m\u001b[0;31m:\u001b[0m 2\n"
     ]
    },
    {
     "name": "stderr",
     "output_type": "stream",
     "text": [
      "/home/lu/.conda/envs/tensorflow/lib/python2.7/site-packages/IPython/core/interactiveshell.py:2889: UserWarning: To exit: use 'exit', 'quit', or Ctrl-D.\n",
      "  warn(\"To exit: use 'exit', 'quit', or Ctrl-D.\", stacklevel=1)\n"
     ]
    }
   ],
   "source": [
    "args = argumentparser.ArgumentParser()"
   ]
  },
  {
   "cell_type": "code",
   "execution_count": null,
   "metadata": {
    "collapsed": true
   },
   "outputs": [],
   "source": []
  }
 ],
 "metadata": {
  "kernelspec": {
   "display_name": "Python 2",
   "language": "python",
   "name": "python2"
  },
  "language_info": {
   "codemirror_mode": {
    "name": "ipython",
    "version": 2
   },
   "file_extension": ".py",
   "mimetype": "text/x-python",
   "name": "python",
   "nbconvert_exporter": "python",
   "pygments_lexer": "ipython2",
   "version": "2.7.12"
  }
 },
 "nbformat": 4,
 "nbformat_minor": 2
}
